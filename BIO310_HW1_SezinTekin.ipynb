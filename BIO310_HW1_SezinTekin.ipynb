{
  "cells": [
    {
      "cell_type": "markdown",
      "source": [
        "# BIO 310 Homework 1 - Semi Global Sequence Alignment\n",
        "\n",
        "In this homework, you will implement Semi Global Sequence Alignment. You are given a partial Global Alignment code. You are expected to modify some parts or fill in the blanks to implement it."
      ],
      "metadata": {
        "id": "gn9YGnu5w8pV"
      },
      "id": "gn9YGnu5w8pV"
    },
    {
      "cell_type": "markdown",
      "id": "5b687bc8-c415-4783-ad32-1d5be0c9c109",
      "metadata": {
        "jupyter": {
          "outputs_hidden": true
        },
        "tags": [],
        "id": "5b687bc8-c415-4783-ad32-1d5be0c9c109"
      },
      "source": [
        "There are 2 main excercise that you will encounter in this Homework. For the detailed explanation, please refer to the Homework PDF.\n",
        "\n",
        "* **MODIFY STARTS:** When you see MODIFY, it means this part is for Global Alignment. Therefore, you should convert it to Semi-Global Alignment\n",
        "\n",
        "* **TODO STARTS:** You should implement this part or fill in the blank (...) parts for Semi-Global Alignments."
      ]
    },
    {
      "cell_type": "code",
      "execution_count": null,
      "id": "0dac102e-01a2-41be-9fea-a2d53a242b2c",
      "metadata": {
        "id": "0dac102e-01a2-41be-9fea-a2d53a242b2c"
      },
      "outputs": [],
      "source": [
        "# In Google Colab, Numpy and Pandas are installed already. In case you want to use them on your local computer, you can install them with pip\n",
        "\n",
        "# !pip install numpy\n",
        "# !pip install pandas"
      ]
    },
    {
      "cell_type": "code",
      "source": [
        "from google.colab import drive\n",
        "drive.mount('/content/drive')"
      ],
      "metadata": {
        "id": "o5GFHTQ_eRVH",
        "colab": {
          "base_uri": "https://localhost:8080/"
        },
        "outputId": "54fbb46b-288b-4297-a730-24fc62331795"
      },
      "id": "o5GFHTQ_eRVH",
      "execution_count": null,
      "outputs": [
        {
          "output_type": "stream",
          "name": "stdout",
          "text": [
            "Drive already mounted at /content/drive; to attempt to forcibly remount, call drive.mount(\"/content/drive\", force_remount=True).\n"
          ]
        }
      ]
    },
    {
      "cell_type": "code",
      "execution_count": null,
      "id": "563bb875-3388-4760-8454-40fd24c6808a",
      "metadata": {
        "id": "563bb875-3388-4760-8454-40fd24c6808a"
      },
      "outputs": [],
      "source": [
        "import numpy as np\n",
        "import pandas as pd"
      ]
    },
    {
      "cell_type": "code",
      "execution_count": null,
      "id": "4b09c839-c33e-4080-a3cc-649f1bcba11d",
      "metadata": {
        "id": "4b09c839-c33e-4080-a3cc-649f1bcba11d"
      },
      "outputs": [],
      "source": [
        " ###################### TODO START ######################\n",
        "\n",
        "def initialize_penalties(match_score, mismatch_score, seq1_start_gap, seq2_start_gap,\n",
        "                        seq1_end_gap, seq2_end_gap, internal_gap):\n",
        "    match = match_score\n",
        "    mismatch = mismatch_score\n",
        "\n",
        "    gap_penalties = {\n",
        "        'seq1_start': seq1_start_gap,\n",
        "        'seq2_start': seq2_start_gap,\n",
        "        'seq1_end': seq1_end_gap,\n",
        "        'seq2_end': seq2_end_gap,\n",
        "        'gap_internal': internal_gap\n",
        "    }\n",
        "\n",
        "    # The direction dictionary will be used for backtracking (Do not change)\n",
        "    direction_dict = {\n",
        "        'diagonal':0,\n",
        "        'left': 1,\n",
        "        'up':2\n",
        "    }\n",
        "\n",
        "    return match, mismatch, gap_penalties, direction_dict\n",
        "\n",
        " ###################### TODO END ######################"
      ]
    },
    {
      "cell_type": "code",
      "execution_count": null,
      "id": "aecfeb89-2e9a-4cf2-8208-e409d5dbacdb",
      "metadata": {
        "id": "aecfeb89-2e9a-4cf2-8208-e409d5dbacdb"
      },
      "outputs": [],
      "source": [
        "def read_sequences(filename):\n",
        "    \"\"\"\n",
        "    Read the file and return two sequences in list format\n",
        "\n",
        "    Args:\n",
        "        filename (string): name of the sequence file\n",
        "    \"\"\"\n",
        "    with open(filename) as fn:\n",
        "        seq1 = fn.readline().strip()\n",
        "        seq2 = fn.readline().strip()\n",
        "        match = int(fn.readline().split(':')[1].strip())\n",
        "        mismatch = int(fn.readline().split(':')[1].strip())\n",
        "        internal_gap = int(fn.readline().split(':')[1].strip())\n",
        "        seq1_start_gap = int(fn.readline().split(':')[1].strip())\n",
        "        seq2_start_gap = int(fn.readline().split(':')[1].strip())\n",
        "        seq1_end_gap = int(fn.readline().split(':')[1].strip())\n",
        "        seq2_end_gap = int(fn.readline().split(':')[1].strip())\n",
        "    seq1 = list(seq1)\n",
        "    seq2 = list(seq2)\n",
        "\n",
        "\n",
        "    return seq1, seq2, match, mismatch, seq1_start_gap, seq2_start_gap, seq1_end_gap, seq2_end_gap, internal_gap"
      ]
    },
    {
      "cell_type": "code",
      "execution_count": null,
      "id": "3ff3b8af-225c-40ef-8a05-5193a1bd80c0",
      "metadata": {
        "id": "3ff3b8af-225c-40ef-8a05-5193a1bd80c0"
      },
      "outputs": [],
      "source": [
        " ###################### TODO START ######################\n",
        "\n",
        "def isMatch(a,b, match_score, mismatch_score):\n",
        "  if a == b:\n",
        "    return match_score\n",
        "\n",
        "  elif a != b:\n",
        "    return mismatch_score\n",
        " ###################### TODO END ######################"
      ]
    },
    {
      "cell_type": "code",
      "execution_count": null,
      "id": "ae189568-e627-438d-98b7-85a15f13eb23",
      "metadata": {
        "id": "ae189568-e627-438d-98b7-85a15f13eb23"
      },
      "outputs": [],
      "source": [
        "def score_matrix(seq1, seq2, match, mismatch, gap_penalties, direction_dict):\n",
        "    \"\"\"\n",
        "    Creates score and direction matrices for alignment of two sequences\n",
        "\n",
        "    Args:\n",
        "        seq1 (list): DNA Sequence 1\n",
        "        seq2 (list): DNA Sequence 2\n",
        "        match_score (int): Match Score\n",
        "        mismatch_score (int): Mismatch Score\n",
        "        gap_penalties (dict): Contains different gap penalties\n",
        "\n",
        "    Return:\n",
        "        df_scores (pd.DataFrame): Score Matrix\n",
        "        df_directions (pd.DataFrame): Direction Matrix\n",
        "        max_loc (Tuple): Coordinates of the max position\n",
        "    \"\"\"\n",
        "\n",
        "    len_seq1 = len(seq1)\n",
        "    len_seq2 = len(seq2)\n",
        "\n",
        "    # Zero-filled matrices for scores and directions\n",
        "    scores = np.zeros((len_seq1 + 1, len_seq2 + 1))\n",
        "    directions = np.zeros((len_seq1 + 1, len_seq2 + 1))\n",
        "\n",
        "    ###################### MODIFY START ######################\n",
        "\n",
        "    # Fill first row of scores and directions for seq 1 gap:\n",
        "    for i in range(1, len(seq2) + 1):\n",
        "        scores[0][i] = scores[0][i-1] + gap_penalties['seq1_start']\n",
        "        directions[0][i] = direction_dict['left']\n",
        "\n",
        "    # Fill first column of scores and directions for seq 2 gap:\n",
        "    for j in range(1, len(seq1) + 1):\n",
        "        scores[j][0] = scores[j-1][0] + gap_penalties['seq2_start']\n",
        "        directions[j][0] = direction_dict['up']\n",
        "\n",
        "\n",
        "    ###################### MODIFY END ######################\n",
        "\n",
        "\n",
        "    # Fill the internal cells of scores and directions:\n",
        "    for i in range(1, len(seq1) + 1):\n",
        "        for j in range(1, len(seq2) + 1):\n",
        "\n",
        "            ###################### TODO START ######################\n",
        "\n",
        "            # Calculate left score (Sequence 1 Gap), up score (Sequence 2 Gap), Diagonal Score (Match or Mismatch)\n",
        "            left_score = scores[i][j-1] + gap_penalties['gap_internal']\n",
        "            up_score = scores[i-1][j] + gap_penalties['gap_internal']\n",
        "\n",
        "            diagonal_score = isMatch(seq1[i-1], seq2[j-1], match, mismatch)\n",
        "\n",
        "\n",
        "            # Decide which way to go.\n",
        "            move_score = max(left_score, up_score, diagonal_score)\n",
        "\n",
        "            ###################### TODO END ######################\n",
        "\n",
        "            if move_score == diagonal_score:\n",
        "                scores[i][j] = diagonal_score\n",
        "                directions[i][j] = direction_dict['diagonal']\n",
        "            elif move_score == left_score:\n",
        "                scores[i][j] = left_score\n",
        "                directions[i][j] = direction_dict['left']\n",
        "            else:\n",
        "                scores[i][j] = up_score\n",
        "                directions[i][j] = direction_dict['up']\n",
        "\n",
        "\n",
        "    ###################### MODIFY START ######################\n",
        "\n",
        "    # max_loc is the starting location of the backtracking.\n",
        "\n",
        "    max_row = np.max(scores[ -1])\n",
        "    max_column = np.max(scores[:, -1])\n",
        "    max_score = max(max_row, max_column)\n",
        "\n",
        "\n",
        "    for i in range(len(scores)):\n",
        "      for j in range(len(scores[i])):\n",
        "        if scores[i][j] == max_score:\n",
        "          max_loc = [i,j]\n",
        "\n",
        "    #print(max_loc)\n",
        "\n",
        "\n",
        "    ###################### MODIFY END ######################\n",
        "\n",
        "\n",
        "    # Our matrix size is (m+1, n+1). But our sequence lengths are m and n.\n",
        "    # Add * at the beginnings of sequences\n",
        "    if len(seq1) !=len(scores):\n",
        "        seq1.insert(0,'*')\n",
        "        seq2.insert(0,'*')\n",
        "    # Convert them numpy array\n",
        "    seq1_np = np.array(seq1)\n",
        "    seq2_np = np.array(seq2)\n",
        "\n",
        "    # To see better, convert them as pandas dataframe\n",
        "    scores_matrix=np.asmatrix(scores)\n",
        "    df_scores = pd.DataFrame(scores_matrix, columns= seq2_np, index = seq1_np)\n",
        "\n",
        "    directions_matrix = np.asmatrix(directions)\n",
        "    df_directions = pd.DataFrame(directions_matrix, columns= seq2_np, index = seq1_np)\n",
        "\n",
        "\n",
        "    return df_scores, df_directions, max_loc\n",
        ""
      ]
    },
    {
      "cell_type": "code",
      "execution_count": null,
      "id": "eaf689e7-2f6f-4818-ac2f-ea2f1a8a4804",
      "metadata": {
        "id": "eaf689e7-2f6f-4818-ac2f-ea2f1a8a4804"
      },
      "outputs": [],
      "source": [
        "def backtrack(scores, directions, max_loc):\n",
        "\n",
        "    # Coordinates to track. Start from max_loc until first row or column\n",
        "    x_track, y_track = max_loc[0], max_loc[1]\n",
        "\n",
        "    # Length of Sequences\n",
        "    seq1_length = len(scores.index)\n",
        "    seq2_length = len(scores.columns)\n",
        "\n",
        "    # Final informations to print the alignment\n",
        "    sequence_1 = ''\n",
        "    sequence_2 = ''\n",
        "    alignment_info = ''\n",
        "\n",
        "    ###################### TODO START ######################\n",
        "\n",
        "    # Start from [x_track, y_track] and construct the alignment\n",
        "\n",
        "    while x_track >= 0 and y_track >= 0:\n",
        "\n",
        "        if directions.iloc[x_track, y_track] == 0: # Diagonal\n",
        "            sequence_1 += scores.index[x_track]\n",
        "            sequence_2 += scores.columns[y_track]\n",
        "\n",
        "            if scores.index[x_track] == scores.columns[y_track]: # Match\n",
        "                alignment_info += '|'\n",
        "            else:\n",
        "                alignment_info += '.'\n",
        "            x_track = x_track - 1\n",
        "            y_track = y_track - 1\n",
        "\n",
        "        elif directions.iloc[x_track, y_track] == 1: # Left\n",
        "            sequence_1 += '-'\n",
        "            sequence_2 += scores.columns[y_track]\n",
        "            alignment_info += ' '\n",
        "            x_track = x_track\n",
        "            y_track = y_track -1\n",
        "\n",
        "        else: # Up\n",
        "            sequence_1 += scores.index[x_track]\n",
        "            sequence_2 += '-'\n",
        "            alignment_info += ' '\n",
        "            x_track = x_track -1\n",
        "            y_track = y_track\n",
        "\n",
        "    ###################### TODO END ######################\n",
        "\n",
        "\n",
        "    ###################### TODO START ######################\n",
        "\n",
        "    # Add the end gaps to the alignment\n",
        "\n",
        "    while x_track >= 0:\n",
        "      sequence_1 = scores.index[0:x_track+1][::-1] + sequence_1\n",
        "      sequence_2 = '-' * (x_track +1) + sequence_2\n",
        "      alignment_info = ' ' * (x_track+1) + alignment_info\n",
        "      x_track -= 1 # to move next element\n",
        "\n",
        "    while y_track >= 0:\n",
        "      sequence_1 = '-' * (y_track+1) + sequence_1\n",
        "      sequence_2 = scores.columns[0:y_track+1][::-1] + sequence_2\n",
        "      alignment_info = ' '*(y_track+1) + alignment_info\n",
        "      y_track -= 1 # to move to nex element\n",
        "\n",
        "    ###################### TODO END ######################\n",
        "\n",
        "    # Reverse the sequences\n",
        "    sequence_1 = sequence_1[::-1]\n",
        "    sequence_2 = sequence_2[::-1]\n",
        "    alignment_info = alignment_info[::-1]\n",
        "\n",
        "    return sequence_1, sequence_2, alignment_info\n",
        ""
      ]
    },
    {
      "cell_type": "code",
      "execution_count": null,
      "id": "de7a8629-0572-419d-95e1-d6362ac48d25",
      "metadata": {
        "id": "de7a8629-0572-419d-95e1-d6362ac48d25"
      },
      "outputs": [],
      "source": [
        "###################### TODO START ######################\n",
        "\n",
        "def semi_global_alignment(filename):\n",
        "\n",
        "    # 1. Read File\n",
        "    sequece_1, sequence_2, match_score, mismatch_score, seq1_start_gap, seq2_start_gap, seq1_end_gap, seq2_end_gap, internal_gap = read_sequences(filename)\n",
        "\n",
        "    # 2. Initialize Penalties\n",
        "    match_score, mismatch_score, gap_penalties, direction_dict = initialize_penalties(match_score, mismatch_score, seq1_start_gap, seq2_start_gap, seq1_end_gap, seq2_end_gap, internal_gap)\n",
        "\n",
        "    # 3. Get score and direction matrix\n",
        "    df_scores, df_directions, max_loc = score_matrix(sequece_1, sequence_2, match_score, mismatch_score, gap_penalties, direction_dict)\n",
        "\n",
        "    # 4. Backtrack\n",
        "    sequence_1, sequence_2, alignment_info = backtrack(df_scores, df_directions, max_loc)\n",
        "\n",
        "    # 5. Print the results (Don't Change This)\n",
        "    print(f'Match Score: {match_score}')\n",
        "    print(f'Mismatch Score: {mismatch_score}')\n",
        "    print(f'Internal Gap penalty: {internal_gap}')\n",
        "    print(f'Gaps penalty at the start of string 1: {seq1_start_gap}')\n",
        "    print(f'Gaps penalty at the start of string 2: {seq2_start_gap}')\n",
        "    print(f'Gaps penalty at the end of string 1: {seq1_end_gap}')\n",
        "    print(f'Gaps penalty at the end of string 2: {seq2_end_gap}')\n",
        "    print()\n",
        "    print(f'{sequence_1}\\n{alignment_info}\\n{sequence_2}')\n",
        "\n",
        "###################### TODO END ######################"
      ]
    },
    {
      "cell_type": "markdown",
      "source": [
        "# Run the tests in the cells below"
      ],
      "metadata": {
        "id": "tz1Moh4NGadA"
      },
      "id": "tz1Moh4NGadA"
    },
    {
      "cell_type": "markdown",
      "source": [
        "## Test 1"
      ],
      "metadata": {
        "id": "ctzrksGvGKng"
      },
      "id": "ctzrksGvGKng"
    },
    {
      "cell_type": "code",
      "source": [
        "semi_global_alignment('/content/drive/MyDrive/BIO310_2023_HW1_Test_Cases/test1.fasta')"
      ],
      "metadata": {
        "id": "bjT48sGtGMqS",
        "colab": {
          "base_uri": "https://localhost:8080/"
        },
        "outputId": "0c3a6faf-50ee-469e-fc0d-e88e89a067a4"
      },
      "id": "bjT48sGtGMqS",
      "execution_count": null,
      "outputs": [
        {
          "output_type": "stream",
          "name": "stdout",
          "text": [
            "Match Score: 15\n",
            "Mismatch Score: -7\n",
            "Internal Gap penalty: -7\n",
            "Gaps penalty at the start of string 1: 0\n",
            "Gaps penalty at the start of string 2: 0\n",
            "Gaps penalty at the end of string 1: 0\n",
            "Gaps penalty at the end of string 2: 0\n",
            "\n",
            "*ATTGCC--ATGA\n",
            "|   | |  ||||\n",
            "*---G-CATATGA\n"
          ]
        }
      ]
    },
    {
      "cell_type": "markdown",
      "source": [
        "## Test 2"
      ],
      "metadata": {
        "id": "Ixt1dLqMGRjN"
      },
      "id": "Ixt1dLqMGRjN"
    },
    {
      "cell_type": "code",
      "source": [
        "semi_global_alignment('/content/drive/MyDrive/BIO310_2023_HW1_Test_Cases/test2.fasta')"
      ],
      "metadata": {
        "id": "-UT1lm5qGO0Z",
        "colab": {
          "base_uri": "https://localhost:8080/"
        },
        "outputId": "d252fb77-5be8-4673-d796-2eb34a8470c9"
      },
      "id": "-UT1lm5qGO0Z",
      "execution_count": null,
      "outputs": [
        {
          "output_type": "stream",
          "name": "stdout",
          "text": [
            "Match Score: 10\n",
            "Mismatch Score: -2\n",
            "Internal Gap penalty: -2\n",
            "Gaps penalty at the start of string 1: -8\n",
            "Gaps penalty at the start of string 2: -8\n",
            "Gaps penalty at the end of string 1: 0\n",
            "Gaps penalty at the end of string 2: 0\n",
            "\n",
            "*ATTGCC--ATGA\n",
            "|   | |  ||||\n",
            "*---G-CATATGA\n"
          ]
        }
      ]
    },
    {
      "cell_type": "markdown",
      "source": [
        "## Test 3"
      ],
      "metadata": {
        "id": "Fl5Vf9X_GSfg"
      },
      "id": "Fl5Vf9X_GSfg"
    },
    {
      "cell_type": "code",
      "source": [
        "semi_global_alignment('/content/drive/MyDrive/BIO310_2023_HW1_Test_Cases/test3.fasta')"
      ],
      "metadata": {
        "id": "yeAwCABFGTEF",
        "colab": {
          "base_uri": "https://localhost:8080/"
        },
        "outputId": "50720eef-d9f4-4aec-cf89-da28988ac74b"
      },
      "id": "yeAwCABFGTEF",
      "execution_count": null,
      "outputs": [
        {
          "output_type": "stream",
          "name": "stdout",
          "text": [
            "Match Score: 10\n",
            "Mismatch Score: -3\n",
            "Internal Gap penalty: -2\n",
            "Gaps penalty at the start of string 1: 0\n",
            "Gaps penalty at the start of string 2: 0\n",
            "Gaps penalty at the end of string 1: -10\n",
            "Gaps penalty at the end of string 2: -10\n",
            "\n",
            "*---ATCT-CTGATAAG--GACAAGG--CTG--CTGTGA--AA-GCC-CTATG-C\n",
            "|    ||| |   |  |  ||||| |  |    |   |   || ||| | | | |\n",
            "*CTG-TCTCC---T--GCCGACAA-GACC--AAC---G-TCAAGGCCGC-A-GCC\n"
          ]
        }
      ]
    },
    {
      "cell_type": "markdown",
      "source": [
        "## Test 4"
      ],
      "metadata": {
        "id": "4b2xHSUtGTe1"
      },
      "id": "4b2xHSUtGTe1"
    },
    {
      "cell_type": "code",
      "source": [
        "semi_global_alignment('/content/drive/MyDrive/BIO310_2023_HW1_Test_Cases/test4.fasta')"
      ],
      "metadata": {
        "id": "PqBgR799GUSB",
        "colab": {
          "base_uri": "https://localhost:8080/"
        },
        "outputId": "a11187f4-6756-46d6-a1f0-ccf45392b41c"
      },
      "id": "PqBgR799GUSB",
      "execution_count": null,
      "outputs": [
        {
          "output_type": "stream",
          "name": "stdout",
          "text": [
            "Match Score: 10\n",
            "Mismatch Score: -2\n",
            "Internal Gap penalty: -7\n",
            "Gaps penalty at the start of string 1: -7\n",
            "Gaps penalty at the start of string 2: 0\n",
            "Gaps penalty at the end of string 1: -7\n",
            "Gaps penalty at the end of string 2: 0\n",
            "\n",
            "*ATCTCTGATAAGGACAAGGCTGCTGTG-AAA-GCC-CTATG-C\n",
            "|.|.|||..|...||||| | ..|...| .|| ||| | | | |\n",
            "*CTGTCTCCTGCCGACAA-G-ACCAACGTCAAGGCCGC-A-GCC\n"
          ]
        }
      ]
    },
    {
      "cell_type": "markdown",
      "source": [
        "## Test 5"
      ],
      "metadata": {
        "id": "c3m6qynoGUqC"
      },
      "id": "c3m6qynoGUqC"
    },
    {
      "cell_type": "code",
      "source": [
        "semi_global_alignment('/content/drive/MyDrive/BIO310_2023_HW1_Test_Cases/test5.fasta')"
      ],
      "metadata": {
        "id": "EGKIRwYEGVNL",
        "colab": {
          "base_uri": "https://localhost:8080/"
        },
        "outputId": "c9e990ef-92ba-45aa-8e6c-e01eefc37911"
      },
      "id": "EGKIRwYEGVNL",
      "execution_count": null,
      "outputs": [
        {
          "output_type": "stream",
          "name": "stdout",
          "text": [
            "Match Score: 5\n",
            "Mismatch Score: -2\n",
            "Internal Gap penalty: -2\n",
            "Gaps penalty at the start of string 1: 0\n",
            "Gaps penalty at the start of string 2: 0\n",
            "Gaps penalty at the end of string 1: 0\n",
            "Gaps penalty at the end of string 2: 0\n",
            "\n",
            "*CGATTTGATTGAG\n",
            "|        ||  |\n",
            "*--------TT--G\n"
          ]
        }
      ]
    },
    {
      "cell_type": "markdown",
      "source": [
        "## Test 6"
      ],
      "metadata": {
        "id": "72jQOav-GVf4"
      },
      "id": "72jQOav-GVf4"
    },
    {
      "cell_type": "code",
      "source": [
        "semi_global_alignment('/content/drive/MyDrive/BIO310_2023_HW1_Test_Cases/test6.fasta')"
      ],
      "metadata": {
        "id": "URs6xRJgGWCf",
        "colab": {
          "base_uri": "https://localhost:8080/"
        },
        "outputId": "335e54a3-f36a-4434-f4bd-a88cd3bf7266"
      },
      "id": "URs6xRJgGWCf",
      "execution_count": null,
      "outputs": [
        {
          "output_type": "stream",
          "name": "stdout",
          "text": [
            "Match Score: 1\n",
            "Mismatch Score: -1\n",
            "Internal Gap penalty: -2\n",
            "Gaps penalty at the start of string 1: -1\n",
            "Gaps penalty at the start of string 2: 0\n",
            "Gaps penalty at the end of string 1: 0\n",
            "Gaps penalty at the end of string 2: 0\n",
            "\n",
            "*CCAAGTCAAGTCGG\n",
            "|  .....||...||\n",
            "*--GTTCAAATCGGG\n"
          ]
        }
      ]
    },
    {
      "cell_type": "markdown",
      "source": [
        "## Test 7"
      ],
      "metadata": {
        "id": "iNn70X3GGWX4"
      },
      "id": "iNn70X3GGWX4"
    },
    {
      "cell_type": "code",
      "source": [
        "semi_global_alignment('/content/drive/MyDrive/BIO310_2023_HW1_Test_Cases/test7.fasta')"
      ],
      "metadata": {
        "id": "p-pZid9IGW6y",
        "colab": {
          "base_uri": "https://localhost:8080/"
        },
        "outputId": "fe200096-9681-4d4c-be78-257f6f1747b9"
      },
      "id": "p-pZid9IGW6y",
      "execution_count": null,
      "outputs": [
        {
          "output_type": "stream",
          "name": "stdout",
          "text": [
            "Match Score: 1\n",
            "Mismatch Score: -1\n",
            "Internal Gap penalty: -1\n",
            "Gaps penalty at the start of string 1: -1\n",
            "Gaps penalty at the start of string 2: 0\n",
            "Gaps penalty at the end of string 1: 0\n",
            "Gaps penalty at the end of string 2: 0\n",
            "\n",
            "*BIOINFORMATICS\n",
            "|   |||||||||||\n",
            "*---INFORMATICS\n"
          ]
        }
      ]
    },
    {
      "cell_type": "markdown",
      "source": [
        "## Test 8"
      ],
      "metadata": {
        "id": "xhAFDaL1GXfw"
      },
      "id": "xhAFDaL1GXfw"
    },
    {
      "cell_type": "code",
      "source": [
        "semi_global_alignment('/content/drive/MyDrive/BIO310_2023_HW1_Test_Cases/test8.fasta')"
      ],
      "metadata": {
        "id": "CRqP3vgUGYDs",
        "colab": {
          "base_uri": "https://localhost:8080/"
        },
        "outputId": "a3b70375-c880-4516-90de-515221f1301c"
      },
      "id": "CRqP3vgUGYDs",
      "execution_count": null,
      "outputs": [
        {
          "output_type": "stream",
          "name": "stdout",
          "text": [
            "Match Score: 8\n",
            "Mismatch Score: -2\n",
            "Internal Gap penalty: -4\n",
            "Gaps penalty at the start of string 1: -1\n",
            "Gaps penalty at the start of string 2: 0\n",
            "Gaps penalty at the end of string 1: -1\n",
            "Gaps penalty at the end of string 2: 0\n",
            "\n",
            "*CATTCA-CAGGTCA\n",
            "|    |  |  | ||\n",
            "*----C-TC--G-CA\n"
          ]
        }
      ]
    },
    {
      "cell_type": "markdown",
      "source": [
        "## Test 9"
      ],
      "metadata": {
        "id": "fTrlMAo6GYZ7"
      },
      "id": "fTrlMAo6GYZ7"
    },
    {
      "cell_type": "code",
      "source": [
        "semi_global_alignment('/content/drive/MyDrive/BIO310_2023_HW1_Test_Cases/test9.fasta')"
      ],
      "metadata": {
        "id": "s1ikuAGNGZIy",
        "colab": {
          "base_uri": "https://localhost:8080/"
        },
        "outputId": "64a3167a-e420-4cd7-dd08-15d8c2d5fdce"
      },
      "id": "s1ikuAGNGZIy",
      "execution_count": null,
      "outputs": [
        {
          "output_type": "stream",
          "name": "stdout",
          "text": [
            "Match Score: 10\n",
            "Mismatch Score: -1\n",
            "Internal Gap penalty: -2\n",
            "Gaps penalty at the start of string 1: -2\n",
            "Gaps penalty at the start of string 2: 0\n",
            "Gaps penalty at the end of string 1: 0\n",
            "Gaps penalty at the end of string 2: 0\n",
            "\n",
            "*WEARE---HUMANS\n",
            "||||||   ||||| \n",
            "*WEARENOTHUMAN-\n"
          ]
        }
      ]
    }
  ],
  "metadata": {
    "kernelspec": {
      "display_name": "Python 3 (ipykernel)",
      "language": "python",
      "name": "python3"
    },
    "language_info": {
      "codemirror_mode": {
        "name": "ipython",
        "version": 3
      },
      "file_extension": ".py",
      "mimetype": "text/x-python",
      "name": "python",
      "nbconvert_exporter": "python",
      "pygments_lexer": "ipython3",
      "version": "3.10.9"
    },
    "colab": {
      "provenance": []
    }
  },
  "nbformat": 4,
  "nbformat_minor": 5
}
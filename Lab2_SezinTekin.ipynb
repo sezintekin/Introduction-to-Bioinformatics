{
  "nbformat": 4,
  "nbformat_minor": 0,
  "metadata": {
    "colab": {
      "provenance": []
    },
    "kernelspec": {
      "name": "python3",
      "display_name": "Python 3"
    },
    "language_info": {
      "name": "python"
    }
  },
  "cells": [
    {
      "cell_type": "markdown",
      "source": [
        "## Install Libraries"
      ],
      "metadata": {
        "id": "xay-hjRKnLsO"
      }
    },
    {
      "cell_type": "code",
      "source": [
        "!pip install hidden_markov"
      ],
      "metadata": {
        "id": "G7TptWBCcmti",
        "colab": {
          "base_uri": "https://localhost:8080/"
        },
        "outputId": "47a704a9-93da-40cf-d408-bfe8c3df4aae"
      },
      "execution_count": null,
      "outputs": [
        {
          "output_type": "stream",
          "name": "stdout",
          "text": [
            "Looking in indexes: https://pypi.org/simple, https://us-python.pkg.dev/colab-wheels/public/simple/\n",
            "Requirement already satisfied: hidden_markov in /usr/local/lib/python3.9/dist-packages (0.3.2)\n",
            "Requirement already satisfied: numpy in /usr/local/lib/python3.9/dist-packages (from hidden_markov) (1.22.4)\n"
          ]
        }
      ]
    },
    {
      "cell_type": "code",
      "source": [
        "import numpy as np\n",
        "from hidden_markov import hmm"
      ],
      "metadata": {
        "id": "0E50GDimcmrt"
      },
      "execution_count": null,
      "outputs": []
    },
    {
      "cell_type": "markdown",
      "source": [
        "Group Members:\n",
        "- Sezin Tekin\n",
        "- Bahar Sevgin\n",
        "- Erdem Kertmen\n",
        "- İrem Yeşilbaş\n",
        "- Eyşan Mutlu"
      ],
      "metadata": {
        "id": "tcQxw8eYdZoC"
      }
    },
    {
      "cell_type": "markdown",
      "source": [
        "In the human genome cytosine (C) is typically methylated. There is a relatively high change of mutation\n",
        "of this methyl-C into a thymine(T). As a result, in general CpG dinucleotides are rare in the genome than\n",
        "would be expected from the independent probabilities of C and G. [1]"
      ],
      "metadata": {
        "id": "tGA4_CNoeINa"
      }
    },
    {
      "cell_type": "markdown",
      "source": [
        "<img src=\"https://i.ibb.co/9w4vG7t/Screen-Shot-2023-04-15-at-18-12-01.png\" alt=\"Screen-Shot-2023-04-15-at-18-12-01\" width=\"800\" border=\"0\">"
      ],
      "metadata": {
        "id": "0uPn2d8XefV7"
      }
    },
    {
      "cell_type": "markdown",
      "source": [
        "# Task 1: Creating HMM Model\n",
        "\n",
        "- Define states and observations\n",
        "- Define the probabilities\n",
        "- Create the model"
      ],
      "metadata": {
        "id": "_AaFshr3ey0k"
      }
    },
    {
      "cell_type": "code",
      "source": [
        "# Define Possible Hidden States\n",
        "states = [\"non-island\", \"CpG islands\"]\n",
        "\n",
        "# Define Possible Observations\n",
        "possible_observation = [\"A\", \"C\", \"T\", \"G\"]\n",
        "\n",
        "# Define Start Probabilities as numpy matrix (ith element corresponds to ith element in states)\n",
        "start_probability = np.matrix([0.5, 0.5])\n",
        "\n",
        "# Define Transition Probabilities as numpy matrix\n",
        "# Dimension -> [length of states, lenght of states]\n",
        "# transition_probability[i,j] means probability of states[i] -> states[j]\n",
        "transition_probability = np.matrix([[0.95, 0.05], [0.1, 0.90]])\n",
        "\n",
        "# Define Emission Probabilities as numpy matrix\n",
        "# Dimension -> [length of states, lenght of observations]\n",
        "# transition_probability[i,j] means probability of states[i] -> observations[j]\n",
        "emission_probability = np.matrix([[0.27, 0.24, 0.26, 0.23],\n",
        "                                 [0.15, 0.33, 0.16, 0.36]])\n",
        "\n",
        "# Initialize hmm model\n",
        "hmm_model = hmm(states = states,\n",
        "                observations = possible_observation,\n",
        "                start_prob = start_probability,\n",
        "                trans_prob = transition_probability,\n",
        "                em_prob = emission_probability )"
      ],
      "metadata": {
        "id": "K1wzHT1Qcmp_"
      },
      "execution_count": null,
      "outputs": []
    },
    {
      "cell_type": "markdown",
      "source": [
        "# Task 2: Forward Algorithm\n",
        "\n",
        "By using Forward algorithm, calculate the probability of all possible paths which give rise to the\n",
        "sequence **CGCG**."
      ],
      "metadata": {
        "id": "U6evvJ9XeCLW"
      }
    },
    {
      "cell_type": "code",
      "source": [
        "# Use forward algorithm from hidden_markov library\n",
        "\n",
        "observations = ('C', 'G','C','G')\n",
        "print(hmm_model.forward_algo(observations))\n",
        "\n"
      ],
      "metadata": {
        "id": "aff362LicmoL",
        "colab": {
          "base_uri": "https://localhost:8080/"
        },
        "outputId": "7def2463-c07e-4918-a411-b3298d464eb4"
      },
      "execution_count": null,
      "outputs": [
        {
          "output_type": "stream",
          "name": "stdout",
          "text": [
            "0.007838160412500001\n"
          ]
        }
      ]
    },
    {
      "cell_type": "markdown",
      "source": [
        "# Task 3: Viterbi Algorithm\n",
        "\n",
        "Using the HMM model shown in Figure 2, predict the most probable path by Viterbi algorithm which\n",
        "give rise to the seqeunce CGCG."
      ],
      "metadata": {
        "id": "zReVSUQEfccb"
      }
    },
    {
      "cell_type": "code",
      "source": [
        "# Use viterbi algorithm from hidden_markov library\n",
        "\n",
        "observations = ('C', 'G','C','G')\n",
        "print(f\"The most probable path for the sequence {sequence} is {hmm_model.viterbi(sequence)}\")"
      ],
      "metadata": {
        "id": "eXvkAqdPihKZ",
        "colab": {
          "base_uri": "https://localhost:8080/"
        },
        "outputId": "82e929dd-5ef3-439d-d4f7-58b095b7c564"
      },
      "execution_count": null,
      "outputs": [
        {
          "output_type": "stream",
          "name": "stdout",
          "text": [
            "The most probable path for the sequence CGCG is ['CpG islands', 'CpG islands', 'CpG islands', 'CpG islands']\n"
          ]
        }
      ]
    },
    {
      "cell_type": "markdown",
      "source": [
        "# Task 4: Find K Best Possible Sequences"
      ],
      "metadata": {
        "id": "uB__n4Jgfhmo"
      }
    },
    {
      "cell_type": "markdown",
      "source": [
        "- Complete find_k_obs function with following information below.\n",
        "- **Using find_k_obs** function with k = 5, print:\n",
        "  - Sequences\n",
        "  - Likelihoods\n",
        "  - Most probable hidden states by Viterbi algorithm for specific sequence\n",
        "\n",
        "**NOTE:** Take the length of the possible observation sequences as 4."
      ],
      "metadata": {
        "id": "S45N6CBghTJU"
      }
    },
    {
      "cell_type": "code",
      "source": [
        "def find_k_obs(hmm_model, possible_observation, k_seq = 5):\n",
        "  \"\"\"\n",
        "  The function returns the k most likely sequences and their likelihoods\n",
        "\n",
        "  Arguments:\n",
        "  hmm_model: hmm model object to perform forward and viterbi algorithm\n",
        "  possible observations: Unique set of possible observations\n",
        "  k_seq: The number of most likely observation sequences to return\n",
        "\n",
        "  Return:\n",
        "    best_seq (list): Includes k most likely sequences\n",
        "    best_likelihood (list): Includes likelihoods of k most likely sequences\n",
        "\n",
        "  Example:\n",
        "\n",
        "  possible_observations = ['X','Y']\n",
        "  best_obs_seq, best_likelihood = find_k_obs(hmm_model, possible_observation, k_seq = 2)\n",
        "  best_obs_seq: [['X','X'], ['Y','X']]\n",
        "  best_likelihood: [0.09, 0.08]\n",
        "\n",
        "\n",
        "  \"\"\"\n",
        "\n",
        "\n",
        "  return best_seq, best_likelihood"
      ],
      "metadata": {
        "id": "YHzVDoJTcmme"
      },
      "execution_count": null,
      "outputs": []
    },
    {
      "cell_type": "code",
      "source": [
        "# Print Sequences, Likelihoods, Most Probable Paths\n",
        "..."
      ],
      "metadata": {
        "id": "7XlQypApcmkw"
      },
      "execution_count": null,
      "outputs": []
    },
    {
      "cell_type": "markdown",
      "source": [
        "# References\n",
        "\n",
        "[1] Richard Durbin, Sean R Eddy, Anders Krogh, and Graeme Mitchison. Biological sequence analysis:\n",
        "probabilistic models of proteins and nucleic acids. Cambridge university press, 1998."
      ],
      "metadata": {
        "id": "9rNzCxR3ixQq"
      }
    }
  ]
}